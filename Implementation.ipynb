{
 "cells": [
  {
   "cell_type": "markdown",
   "id": "68ad5521",
   "metadata": {},
   "source": [
    "# Deutsch-Jozsa Algorithm\n",
    "\n",
    "In this notebook I will prove the quantum advantage for the parity problem. \n",
    "## Imports and requirements\n"
   ]
  },
  {
   "cell_type": "markdown",
   "id": "6ac05f8c",
   "metadata": {},
   "source": [
    "To run this notebook it is requiered a python versin >= 3.10, personally, I am using python 3.11"
   ]
  },
  {
   "cell_type": "code",
   "execution_count": null,
   "id": "d413f8b8",
   "metadata": {},
   "outputs": [],
   "source": [
    "from platform import python_version\n",
    "print(python_version())"
   ]
  },
  {
   "cell_type": "code",
   "execution_count": null,
   "id": "b013b015",
   "metadata": {},
   "outputs": [],
   "source": [
    "# Requieremts\n",
    "%pip install os\n",
    "%pip install qiskit\n",
    "%pip install qiskit_ibm_runtime\n",
    "%pip install numpy\n",
    "%pip install matplot\n",
    "%pip ipywidgets\n",
    "%pip install python-dotenv\n"
   ]
  },
  {
   "cell_type": "code",
   "execution_count": 15,
   "id": "58d70ba0",
   "metadata": {},
   "outputs": [],
   "source": [
    "# Imports\n",
    "from dotenv import load_dotenv\n",
    "import os\n",
    "from qiskit_ibm_runtime import QiskitRuntimeService\n"
   ]
  },
  {
   "cell_type": "markdown",
   "id": "78fabc3b",
   "metadata": {},
   "source": [
    "## IBM Quantum Runtime setup\n",
    "Firstly we will setup the qiskit_ibm_runtime service so we can execute our circuit on a real hardware."
   ]
  },
  {
   "cell_type": "code",
   "execution_count": null,
   "id": "7aacb789",
   "metadata": {},
   "outputs": [],
   "source": [
    "# Cargar automáticamente el archivo .env de la raíz del proyecto\n",
    "load_dotenv(override=True)\n",
    "\n",
    "# Comprobar que las variables se han cargado\n",
    "print(\"🔑 Token (primeros 6 chars):\", os.environ[\"IBM_QUANTUM_TOKEN\"][:6], \"...\")\n",
    "\n",
    "# Configurar el servicio de IBM Quantum\n",
    "service = QiskitRuntimeService(\n",
    "    channel=os.environ[\"IBM_QUANTUM_CHANNEL\"],   # \"ibm_cloud\"\n",
    "    token=os.environ[\"IBM_QUANTUM_TOKEN\"],\n",
    "    instance=os.environ[\"IBM_QUANTUM_INSTANCE\"]  # CRN\n",
    ")\n"
   ]
  },
  {
   "cell_type": "markdown",
   "id": "12206718",
   "metadata": {},
   "source": [
    "# Deutsch-Jozsa-algorithm-implementation\n",
    "\n",
    "## Introduction\n",
    "The Deutsch–Jozsa algorithm distinguishes between constant and balanced functions exponentially faster than any classical deterministic algorithm. Even if it is not a usefull algorithm in a practical way, it is a simple example to show the quantum advantage.\n",
    "\n",
    "\n",
    "## Algorithm description\n",
    "Deutsch algorithm solves the parity problem for functions such us:\n",
    "\n",
    "$$\n",
    "\\sum \\;\\; \\longrightarrow \\sum\n",
    "$$\n",
    "The outputs will be:\n",
    "\n",
    "$$  0 \\Leftrightarrow \\; constant $$\n",
    "$$ 1 \\Leftrightarrow \\; balanced$$\n",
    "\n",
    "<br>\n",
    "Deutsch-Jozsa algorithm is the extension of the Deustch algorithm for functions such us:\n",
    "\n",
    "$$\\sum^n \\;\\;\\longrightarrow\\;\\; \\sum \\; , \\quad n \\geq 1 $$\n",
    "\n",
    "To describe how this algorithm works , imagine this game: Alice, in LA sends a bit string to Bob who is in NY. Bob calculates the image of some function $ f(x) $ that could work in two different ways. First  $f(x) = 0 \\ $  or  $ f(x) = 1 $ ,but never both, constant. Otherwise $ f(x) = 0 $ half of the times , $ f(x) = 1 $ the other half, balanced. The goal of Alice is knowing how this $ f(x) $ work, constant or balanced. \n",
    "\n",
    "If Bob agrees to use an unitary operator $ U_f $ then, Alice only needs a single query to know how the function $ f(x) $ behaves. In contrast the best classical method would require $ 2^{n-1} +1 $  queries.\n",
    "\n",
    "## Implementation\n",
    "\n",
    "## Referances \n",
    "Nielsen & Chuang, secciones 1.4.2–1.4.4.\n",
    "\n",
    "\n",
    "\n"
   ]
  },
  {
   "cell_type": "markdown",
   "id": "37060478",
   "metadata": {},
   "source": [
    "ttps://quantum.cloud.ibm.com/learning/en/modules/computer-science/deutsch-jozsa\n",
    "\n",
    "\n",
    "## To-do\n",
    "\n",
    "AÑADIR REFERENCIA A PRIMERA PARTE \"ALGORITHM DESCRIPTION\" ALGO COMO  SEE ..."
   ]
  },
  {
   "cell_type": "markdown",
   "id": "f7c58297",
   "metadata": {},
   "source": [
    "We will follow the qiskit patern"
   ]
  }
 ],
 "metadata": {
  "kernelspec": {
   "display_name": "qgss_env",
   "language": "python",
   "name": "python3"
  },
  "language_info": {
   "codemirror_mode": {
    "name": "ipython",
    "version": 3
   },
   "file_extension": ".py",
   "mimetype": "text/x-python",
   "name": "python",
   "nbconvert_exporter": "python",
   "pygments_lexer": "ipython3",
   "version": "3.11.13"
  }
 },
 "nbformat": 4,
 "nbformat_minor": 5
}

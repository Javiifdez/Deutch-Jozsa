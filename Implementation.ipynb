{
 "cells": [
  {
   "cell_type": "markdown",
   "id": "68ad5521",
   "metadata": {},
   "source": [
    "# Deutsch-Jozsa Algorithm\n",
    "\n",
    "In this notebook I will prove the quantum advantage for the parity problem. This algorithm use\n",
    "## Imports and requirements\n"
   ]
  },
  {
   "cell_type": "markdown",
   "id": "6ac05f8c",
   "metadata": {},
   "source": [
    "To run this notebook it is requiered a python versin >= 3.10, personally, i am using python 3-1"
   ]
  },
  {
   "cell_type": "code",
   "execution_count": null,
   "id": "d413f8b8",
   "metadata": {},
   "outputs": [],
   "source": [
    "from platform import python_version\n",
    "print(python_version())"
   ]
  },
  {
   "cell_type": "code",
   "execution_count": null,
   "id": "b013b015",
   "metadata": {},
   "outputs": [],
   "source": [
    "# Requieremts\n",
    "%pip install qiskit\n",
    "%pip install qiskit_ibm_runtime\n",
    "%pip install numpy\n",
    "%pip install matplot\n",
    "%pip ipywidgets"
   ]
  },
  {
   "cell_type": "code",
   "execution_count": null,
   "id": "58d70ba0",
   "metadata": {},
   "outputs": [],
   "source": [
    "# Imports\n"
   ]
  },
  {
   "cell_type": "markdown",
   "id": "12206718",
   "metadata": {},
   "source": [
    "# Deutsch-Jozsa-algorithm-implementation\n",
    "\n",
    "## Introduction\n",
    "The Deutsch–Jozsa algorithm distinguishes between constant and balanced functions exponentially faster than any classical deterministic algorithm. Even if it is not a usefull algorithm in a practical way, it is a simple example to show the quantum advantage.\n",
    "\n",
    "\n",
    "## Algorithm description\n",
    "Deutsch algorithm solves the parity problem for functions such us:\n",
    "\n",
    "$$\n",
    "\\sum \\;\\; \\longrightarrow \\sum\n",
    "$$\n",
    "The outputs will be:\n",
    "\n",
    "$$  0 \\Leftrightarrow \\; constant $$\n",
    "$$ 1 \\Leftrightarrow \\; balanced$$\n",
    "\n",
    "<br>\n",
    "Deutsch-Jozsa algorithm is the extension of the Deustch algorithm for functions such us:\n",
    "\n",
    "$$\\sum^n \\;\\;\\longrightarrow\\;\\; \\sum \\; , \\quad n \\geq 1 $$\n",
    "\n",
    "\n",
    "\n",
    "## Implementation\n",
    "\n",
    "## Referances \n",
    "\n",
    "\n",
    "\n"
   ]
  },
  {
   "cell_type": "code",
   "execution_count": null,
   "id": "c2b4ca3e",
   "metadata": {},
   "outputs": [],
   "source": []
  },
  {
   "cell_type": "markdown",
   "id": "37060478",
   "metadata": {},
   "source": [
    "ttps://quantum.cloud.ibm.com/learning/en/modules/computer-science/deutsch-jozsa\n",
    "\n",
    "\n",
    "## To-do\n",
    "\n",
    "AÑADIR REFERENCIA A PRIMERA PARTE \"ALGORITHM DESCRIPTION\" ALGO COMO  SEE ..."
   ]
  },
  {
   "cell_type": "markdown",
   "id": "f7c58297",
   "metadata": {},
   "source": [
    "We will follow the qiskit patern"
   ]
  }
 ],
 "metadata": {
  "kernelspec": {
   "display_name": "qgss25_env",
   "language": "python",
   "name": "python3"
  },
  "language_info": {
   "name": "python",
   "version": "3.11.13"
  }
 },
 "nbformat": 4,
 "nbformat_minor": 5
}

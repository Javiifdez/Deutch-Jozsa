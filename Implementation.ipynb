{
 "cells": [
  {
   "cell_type": "markdown",
   "id": "68ad5521",
   "metadata": {},
   "source": [
    "# Deutsch-Jozsa Algorithm\n",
    "\n",
    "## Imports and requirements\n"
   ]
  },
  {
   "cell_type": "markdown",
   "id": "6ac05f8c",
   "metadata": {},
   "source": [
    "To run this notebook it is requiered a python versin >= 3.10, personally, I am using python 3.11"
   ]
  },
  {
   "cell_type": "code",
   "execution_count": null,
   "id": "d413f8b8",
   "metadata": {},
   "outputs": [],
   "source": [
    "from platform import python_version\n",
    "print(python_version())"
   ]
  },
  {
   "cell_type": "code",
   "execution_count": null,
   "id": "b013b015",
   "metadata": {},
   "outputs": [],
   "source": [
    "# Requieremts\n",
    "%pip install os\n",
    "%pip install qiskit\n",
    "%pip install qiskit_ibm_runtime\n",
    "%pip install numpy\n",
    "%pip install matplot\n",
    "%pip ipywidgets\n",
    "%pip install python-dotenv\n"
   ]
  },
  {
   "cell_type": "code",
   "execution_count": 6,
   "id": "58d70ba0",
   "metadata": {},
   "outputs": [],
   "source": [
    "# Imports\n",
    "from dotenv import load_dotenv\n",
    "import os\n",
    "import random\n",
    "import qiskit\n",
    "from qiskit import QuantumCircuit, generate_preset_pass_manager\n",
    "from qiskit.visualization import plot_histogram\n",
    "from qiskit.quantum_info import SparsePauliOp\n",
    "\n",
    "from qiskit_ibm_runtime import QiskitRuntimeService, SamplerV2 as Sampler, EstimatorV2 as Estimator\n",
    "\n",
    "from qiskit_aer import AerSimulator"
   ]
  },
  {
   "cell_type": "code",
   "execution_count": 7,
   "id": "31ee24e8",
   "metadata": {},
   "outputs": [
    {
     "name": "stdout",
     "output_type": "stream",
     "text": [
      "Qiskit version: 2.1.1\n"
     ]
    }
   ],
   "source": [
    "print(f\"Qiskit version: {qiskit.__version__}\")"
   ]
  },
  {
   "cell_type": "markdown",
   "id": "1640d013",
   "metadata": {},
   "source": [
    "You should have Qiskit version `>=2.0.0`. If you see a lower version, you need to restart your kernel and reinstall the library."
   ]
  },
  {
   "cell_type": "markdown",
   "id": "78fabc3b",
   "metadata": {},
   "source": [
    "## IBM Quantum Runtime setup\n",
    "Firstly we will setup the qiskit_ibm_runtime service so we can execute our circuit on a real hardware.\n",
    "> ⚠️ **Note:**  \n",
    "> It is highly recommended to check the [official IBM Quantum documentation](https://quantum.ibm.com/docs/).  \n",
    ">\n",
    "> In this notebook, we will use the **`.env` method**.  \n",
    "> Create a `.env` file in the same folder as this notebook and write your **API key** and **CRN** there.  \n",
    ">\n",
    "> This approach keeps your credentials secure and out of the public repository.\n"
   ]
  },
  {
   "cell_type": "code",
   "execution_count": 8,
   "id": "7aacb789",
   "metadata": {},
   "outputs": [
    {
     "name": "stdout",
     "output_type": "stream",
     "text": [
      "🔑 Token (first 6 chars): b3fr8e ...\n",
      "Available backends:\n",
      " - ibm_brisbane\n",
      " - ibm_torino\n"
     ]
    }
   ],
   "source": [
    "# Load automatically the .env file from the root of the project \n",
    "load_dotenv(override=True)\n",
    "\n",
    "# Check if the environment variables are set\n",
    "print(\"🔑 Token (first 6 chars):\", os.environ[\"IBM_QUANTUM_TOKEN\"][:6], \"...\")\n",
    "\n",
    "# Setup the IBM Quantum Runtime service\n",
    "service = QiskitRuntimeService(\n",
    "    channel=os.environ[\"IBM_QUANTUM_CHANNEL\"],\n",
    "    token=os.environ[\"IBM_QUANTUM_TOKEN\"],\n",
    "    instance=os.environ[\"IBM_QUANTUM_INSTANCE\"]\n",
    ")\n",
    "# Check the available backends, if error then your .env is not correctly set\n",
    "print(\"Available backends:\")\n",
    "for backend in service.backends():\n",
    "    print(\" -\", backend.name)"
   ]
  },
  {
   "cell_type": "markdown",
   "id": "a61896ce",
   "metadata": {},
   "source": [
    "---\n",
    "\n",
    "##  Environment Setup Summary\n",
    "\n",
    "At this point, we have:\n",
    "- Created a secure **`.env`** file containing our API key and CRN.  \n",
    "- Configured the connection using **`QiskitRuntimeService`** without saving any credentials locally.  \n",
    "- Verified that the environment variables are correctly loaded.\n",
    "\n",
    "Now we are ready to start implementing the **Deutsch–Jozsa algorithm** using Qiskit.  \n",
    "In the following sections, we will:\n",
    "1. Review the theoretical foundations of the algorithm.  \n",
    "2. Build the corresponding quantum circuits step by step.  \n",
    "3. Test both **constant** and **balanced** functions on simulators and, optionally, on a real quantum backend.\n",
    "\n",
    "---\n"
   ]
  },
  {
   "cell_type": "markdown",
   "id": "12206718",
   "metadata": {},
   "source": [
    "# Deutsch-Jozsa-algorithm-implementation\n",
    "\n",
    "## Introduction\n",
    "The Deutsch–Jozsa algorithm distinguishes between constant and balanced functions exponentially faster than any classical deterministic algorithm. Even if it is not a usefull algorithm in a practical way, it is a simple example to show the quantum advantage.\n",
    "\n",
    "\n",
    "## Algorithm description\n",
    "Deutsch algorithm solves the parity problem for functions such us:\n",
    "\n",
    "$$\n",
    "\\sum \\;\\; \\longrightarrow \\sum\n",
    "$$\n",
    "<br>\n",
    "Deutsch-Jozsa algorithm is the extension of the Deustch algorithm for functions such us:\n",
    "\n",
    "$$\\sum^n \\;\\;\\longrightarrow\\;\\; \\sum \\; , \\quad n \\geq 1 $$\n",
    "\n",
    "To describe how this algorithm works , imagine this game: Alice, in LA sends a bit string to Bob, who is in NY. Bob calculates the image of some function $ f(x) $ that could work in two different ways. First  $f(x) = 0 \\ $  or  $ f(x) = 1 $ , but never both, constant. Otherwise $ f(x) = 0 $ half of the times , $ f(x) = 1 $ the other half, balanced. The goal of Alice is knowing how this $ f(x) $ work, constant or balanced. \n",
    "\n",
    "If Bob agrees to use an unitary operator $ U_f $ then, Alice only needs a single query to know how the function $ f(x) $ behaves. On the other hand, the best classical method would require $ 2^{n-1} +1 $  queries.\n",
    "\n",
    "## Implementation\n",
    "\n",
    "We will follow the Qiskit workflow pattern: **Map → Optimize → Execute → Post-process**.  \n",
    "This is the standard workflow used for implementing all quantum algorithms.\n",
    "\n",
    "### Step 1: Map\n",
    "\n",
    "Firstly we will setup our qubits. This means $|0\\rangle^{\\otimes n}$ for Alice and $ |1\\rangle $ for Bob's qubit.\n",
    "\n"
   ]
  },
  {
   "cell_type": "code",
   "execution_count": 15,
   "id": "4db0152d",
   "metadata": {},
   "outputs": [
    {
     "data": {
      "image/png": "[encoded data removed]",
      "text/plain": [
       "<Figure size 287.496x451.5 with 1 Axes>"
      ]
     },
     "execution_count": 15,
     "metadata": {},
     "output_type": "execute_result"
    }
   ],
   "source": [
    "# Define the initial state |ψ0⟩ = |0...01⟩\n",
    "def psi_0(n:int) -> QuantumCircuit:\n",
    "    qc = QuantumCircuit(n+1)\n",
    "    qc.x(n)\n",
    "    qc.barrier()\n",
    "    return qc\n",
    "# For example n = 4, 4 qubits for Alice and 1 for Bob\n",
    "n = 4\n",
    "qc = psi_0(n)\n",
    "qc.draw('mpl')"
   ]
  },
  {
   "cell_type": "markdown",
   "id": "7679a288",
   "metadata": {},
   "source": [
    "As you can see. We initialize the circuit in the state $$ |\\psi_0\\rangle = |0\\rangle^{\\otimes (n-1)} |1\\rangle $$ <br> \n",
    "To continue we need to create an entangled $|\\psi_1\\rangle =  H^{\\otimes n}|\\psi_0\\rangle $ \n",
    "which is $$  H^{\\otimes (n-1)}|0\\rangle  \\otimes H|1\\rangle$$"
   ]
  },
  {
   "cell_type": "code",
   "execution_count": 16,
   "id": "10882d8c",
   "metadata": {},
   "outputs": [
    {
     "data": {
      "image/png": "[encoded data removed]",
      "text/plain": [
       "<Figure size 454.719x451.5 with 1 Axes>"
      ]
     },
     "execution_count": 16,
     "metadata": {},
     "output_type": "execute_result"
    }
   ],
   "source": [
    "def psi_1(qc:QuantumCircuit,n:int):\n",
    "    qc.h(range(n+1))\n",
    "    qc.barrier()\n",
    "    return qc\n",
    "qc = psi_1(qc,n)\n",
    "qc.draw('mpl')"
   ]
  },
  {
   "cell_type": "markdown",
   "id": "3a3df269",
   "metadata": {},
   "source": [
    "Our quantum state $$ |\\psi_1 \\rangle = \\displaystyle\\sum_{x \\in \\{0,1\\}^n}  \\frac{|x\\rangle}{\\sqrt{2^n}} \\otimes \\frac{|0\\rangle - |1\\rangle}{\\sqrt{2}} $$ <br>\n",
    "For example for $ n = 2 $ $$  |\\psi_1\\rangle = \\frac {|00\\rangle +|01\\rangle + |10\\rangle + |11\\rangle}{2} \\otimes \\frac{|0\\rangle - |1\\rangle}{\\sqrt{2}}  $$ <br>\n"
   ]
  },
  {
   "cell_type": "markdown",
   "id": "3b64dd75",
   "metadata": {},
   "source": [
    "Now the query register is a superposition of all values. Then it is Bob's turn to evaluate $$ U_f : |Alice,Bob\\rangle \\rightarrow |Alice,Bob \\oplus f(x)\\rangle$$ <br>\n",
    "\n",
    "It is important to understand how $ f(x) $ is chosen. Initially before we execute the quantum circuit an oracle chooses between balanced or constant function. For all shots of the execution this decision will be maintained. Now let's recap how $f(x) $ works:\n",
    "$$\n",
    "constant \\rightarrow f(x) = \n",
    "\\begin{cases}\n",
    "0 \\ \\forall x\n",
    "\\\\\n",
    "1 \\ \\forall x \n",
    "\n",
    "\\end{cases}\n",
    "\n",
    "$$\n",
    "\n",
    "$$\n",
    "balanced \\ \\longrightarrow\\\n",
    "|\\{x : f(x)=0\\}| = |\\{x : f(x)=1\\}| = 2^{n-1}\n",
    "$$"
   ]
  },
  {
   "cell_type": "code",
   "execution_count": 14,
   "id": "8c21a05f",
   "metadata": {},
   "outputs": [
    {
     "name": "stdout",
     "output_type": "stream",
     "text": [
      "10\n"
     ]
    }
   ],
   "source": [
    "# Define a seed for better reproduction\n",
    "seed = 23\n",
    "# Which function we will use for one execution\n",
    "def choose_const_bal(n=random.random())->int:\n",
    "    if n <= 0.5:\n",
    "        n2 = random.random()\n",
    "        if n2 <= 0.5: \n",
    "            return 0 # if output 0 -> const0\n",
    "        else:\n",
    "            return 1 # if output 1 -> const1\n",
    "    else:\n",
    "        return 10 # if output 10 -> balanced\n",
    "        \n",
    "which_fun = choose_const_bal()\n",
    "print(which_fun)"
   ]
  },
  {
   "cell_type": "markdown",
   "id": "0178a336",
   "metadata": {},
   "source": [
    "As we have seen, $f(x)$ can output 2 values rather if it is balanced or constant. Let's check how $ U_f $ works:\n",
    "$$\n",
    "|\\psi_2\\rangle = \\frac{1}{\\sqrt{2^n}} \\big[ U_f|x,0\\rangle - U_f|x,1\\rangle] = \\frac{1}{\\sqrt{2^n}} \\big[ |x,0\\oplus f(x)\\rangle - |x,1\\oplus f(x)\\rangle] = \\frac{1}{\\sqrt{2^n}} \\big[ |x,f(x)\\rangle - |x,1\\oplus f(x)\\rangle]\n",
    "$$ \n",
    "<br>\n",
    "\n",
    "\n"
   ]
  },
  {
   "cell_type": "markdown",
   "id": "cba647d9",
   "metadata": {},
   "source": [
    "Now we will explain how $ U_f $ will change depending on the posible values of  $ f(x) $\n",
    "$$\n",
    "f(x) = 0 \\longrightarrow |\\psi_2\\rangle = \\frac {1}{\\sqrt{2^n}} |x,0\\rangle - |x,1\\rangle \\\\\n",
    "f(x) = 1 \\longrightarrow |\\psi_2\\rangle = \\frac {1}{\\sqrt{2^n}} |x,1\\rangle - |x,0\\rangle  =\\frac {1}{\\sqrt{2^n}} \\big[ -|x,0\\rangle-|x,1\\rangle\\big]\n",
    "\n",
    "$$\n",
    "$$ |\\psi_2\\rangle = \\sum_x \\frac{(-1)^{f(x)}|x\\rangle}{\\sqrt{2^n}} \\big[ \\frac {|0\\rangle-|1\\rangle }{\\sqrt{2}}\\big] $$\n",
    "\n",
    "This phenomena is called phase kickback. This quantum property is one of the most useful  within quantums algorithms. For more detail see: https://quantum.cloud.ibm.com/learning/en/courses/fundamentals-of-quantum-algorithms/phase-estimation-and-factoring/phase-estimation-procedure\n",
    "\n",
    "Let's express this phenomena in terms of quantum gates."
   ]
  },
  {
   "cell_type": "code",
   "execution_count": 17,
   "id": "21c2ac05",
   "metadata": {},
   "outputs": [],
   "source": [
    "#Let's define all the posible functions\n",
    "def constan0(qc:QuantumCircuit) -> QuantumCircuit:\n",
    "    # We apply the identity\n",
    "    return qc\n",
    "\n",
    "def constant1(qc:QuantumCircuit)-> QuantumCircuit:\n",
    "    qc.x(n)\n",
    "    return qc"
   ]
  },
  {
   "cell_type": "markdown",
   "id": "ef32e814",
   "metadata": {},
   "source": [
    "For the balanced function, we should be more cautious. As we can seen $ U_f $ is applied to each $ |x\\rangle $. We can see that for $|\\psi_2\\rangle$ all the information is on Alice's qubits, Bob's qubit does not change. So in the case\n",
    "$$ \n",
    "f(x) = x \\longrightarrow  |x\\rangle |y\\oplus x\\rangle \\longrightarrow CNOT\n",
    "$$ \n",
    "In the second case:\n",
    "$$\n",
    "f(x) =  \\neg x \\longrightarrow  |x\\rangle |y\\oplus  \\neg x\\rangle   ~=~ |x\\rangle |y\\oplus ( 1 \\oplus x\\rangle ) =  |x\\rangle |(y\\oplus  1 )\\oplus  x\\rangle  \\longrightarrow  X \\ CNOT\n",
    "$$"
   ]
  },
  {
   "cell_type": "code",
   "execution_count": null,
   "id": "9aa12cc3",
   "metadata": {},
   "outputs": [
    {
     "data": {
      "image/png": "[encoded data removed]",
      "text/plain": [
       "<Figure size 872.774x451.5 with 1 Axes>"
      ]
     },
     "execution_count": 18,
     "metadata": {},
     "output_type": "execute_result"
    }
   ],
   "source": [
    "def balanced(qc:QuantumCircuit,n:int,aux = random.random()) -> QuantumCircuit:\n",
    "    if aux <= 0.5: \n",
    "        for i in range(n):\n",
    "            qc.cx(i,n) # N CNOT gates \n",
    "        return qc\n",
    "    else:\n",
    "        qc.x(n)\n",
    "        for i in range(n):\n",
    "            qc.cx(i,n) \n",
    "        return qc\n",
    "\n",
    "def uf(qc:QuantumCircuit,n:int,which_fun:int)-> QuantumCircuit:\n",
    "    if which_fun == 0:\n",
    "        qc = constan0(qc)\n",
    "    elif which_fun == 1:\n",
    "        qc = constant1(qc)\n",
    "    else:\n",
    "        qc = balanced(qc,n)\n",
    "    qc.barrier()\n",
    "    return qc\n",
    "\n",
    "qc = uf(qc,n,which_fun)\n",
    "qc.draw('mpl')"
   ]
  },
  {
   "cell_type": "markdown",
   "id": "37060478",
   "metadata": {},
   "source": [
    "\n",
    "## Referances \n",
    "Nielsen & Chuang, secciones 1.4.2–1.4.4.\n",
    "ttps://quantum.cloud.ibm.com/learning/en/modules/computer-science/deutsch-jozsa\n",
    "\n",
    "\n",
    "## To-do\n",
    "\n",
    "AÑADIR REFERENCIA A PRIMERA PARTE \"ALGORITHM DESCRIPTION\" ALGO COMO  SEE ...\n",
    "\n"
   ]
  }
 ],
 "metadata": {
  "kernelspec": {
   "display_name": "qgss_env",
   "language": "python",
   "name": "python3"
  },
  "language_info": {
   "codemirror_mode": {
    "name": "ipython",
    "version": 3
   },
   "file_extension": ".py",
   "mimetype": "text/x-python",
   "name": "python",
   "nbconvert_exporter": "python",
   "pygments_lexer": "ipython3",
   "version": "3.11.13"
  }
 },
 "nbformat": 4,
 "nbformat_minor": 5
}

{
 "cells": [
  {
   "cell_type": "markdown",
   "id": "68ad5521",
   "metadata": {},
   "source": [
    "# Deutsch-Jozsa Algorithm\n",
    "\n",
    "## Table of contents\n",
    "- [Imports and requirements](#imports-and-requirements)\n",
    "- [Runtime setup](#ibm-quantum-runtime-setup)\n",
    "- [Step 1: Map](#step-1-map)\n",
    "- [Step 2: Optimize](#step-2-optimize)\n",
    "- [Step 3: Execute](#step-3-execute)\n",
    "- [References](#referances)\n",
    "\n",
    "\n",
    "\n",
    "## Imports and requirements\n"
   ]
  },
  {
   "cell_type": "markdown",
   "id": "6ac05f8c",
   "metadata": {},
   "source": [
    "To run this notebook it is requiered a python version >= 3.10, personally, I am using python 3.11"
   ]
  },
  {
   "cell_type": "code",
   "execution_count": 1,
   "id": "d413f8b8",
   "metadata": {},
   "outputs": [
    {
     "name": "stdout",
     "output_type": "stream",
     "text": [
      "3.11.13\n"
     ]
    }
   ],
   "source": [
    "from platform import python_version\n",
    "print(python_version())"
   ]
  },
  {
   "cell_type": "code",
   "execution_count": null,
   "id": "b013b015",
   "metadata": {},
   "outputs": [],
   "source": [
    "# Requieremts\n",
    "%pip install os\n",
    "%pip install qiskit\n",
    "%pip install qiskit_ibm_runtime\n",
    "%pip install numpy\n",
    "%pip install matplot\n",
    "%pip ipywidgets\n",
    "%pip install python-dotenv\n"
   ]
  },
  {
   "cell_type": "code",
   "execution_count": 2,
   "id": "58d70ba0",
   "metadata": {},
   "outputs": [],
   "source": [
    "# Imports\n",
    "from dotenv import load_dotenv\n",
    "import os\n",
    "import random\n",
    "import qiskit\n",
    "from qiskit import QuantumCircuit,QuantumRegister, ClassicalRegister, generate_preset_pass_manager\n",
    "from qiskit import transpile\n",
    "from qiskit.visualization import plot_histogram\n",
    "from qiskit.quantum_info import SparsePauliOp\n",
    "\n",
    "\n",
    "from qiskit_ibm_runtime import QiskitRuntimeService\n",
    "from qiskit_aer.primitives import  SamplerV2 as Sampler\n",
    "from qiskit_aer import AerSimulator\n"
   ]
  },
  {
   "cell_type": "code",
   "execution_count": 3,
   "id": "31ee24e8",
   "metadata": {},
   "outputs": [
    {
     "name": "stdout",
     "output_type": "stream",
     "text": [
      "Qiskit version: 2.1.1\n"
     ]
    }
   ],
   "source": [
    "print(f\"Qiskit version: {qiskit.__version__}\")"
   ]
  },
  {
   "cell_type": "markdown",
   "id": "1640d013",
   "metadata": {},
   "source": [
    "You should have Qiskit version `>=2.0.0`. If you see a lower version, you need to restart your kernel and reinstall the library."
   ]
  },
  {
   "cell_type": "markdown",
   "id": "78fabc3b",
   "metadata": {},
   "source": [
    "## IBM Quantum Runtime setup\n",
    "Firstly we will setup the qiskit_ibm_runtime service so we can execute our circuit on a real hardware.\n",
    "> ⚠️ **Note:**  \n",
    "> It is highly recommended to check the [official IBM Quantum documentation](https://quantum.ibm.com/docs/).  \n",
    ">\n",
    "> In this notebook, we will use the **`.env` method**.  \n",
    "> Create a `.env` file in the same folder as this notebook and write your **API key** and **CRN** there.  \n",
    ">\n",
    "> This approach keeps your credentials secure and out of the public repository.\n"
   ]
  },
  {
   "cell_type": "code",
   "execution_count": 4,
   "id": "7aacb789",
   "metadata": {},
   "outputs": [
    {
     "name": "stdout",
     "output_type": "stream",
     "text": [
      "🔑 Token (first 6 chars): b3fr8e ...\n",
      "Available backends:\n",
      " - ibm_brisbane\n",
      " - ibm_torino\n"
     ]
    }
   ],
   "source": [
    "# Load automatically the .env file from the root of the project \n",
    "load_dotenv(override=True)\n",
    "\n",
    "# Check if the environment variables are set\n",
    "print(\"🔑 Token (first 6 chars):\", os.environ[\"IBM_QUANTUM_TOKEN\"][:6], \"...\")\n",
    "\n",
    "# Setup the IBM Quantum Runtime service\n",
    "service = QiskitRuntimeService(\n",
    "    channel=os.environ[\"IBM_QUANTUM_CHANNEL\"],\n",
    "    token=os.environ[\"IBM_QUANTUM_TOKEN\"],\n",
    "    instance=os.environ[\"IBM_QUANTUM_INSTANCE\"]\n",
    ")\n",
    "# Check the available backends, if error then your .env is not correctly set\n",
    "print(\"Available backends:\")\n",
    "backends = service.backends()\n",
    "for backend in service.backends():\n",
    "\n",
    "    print(\" -\", backend.name)"
   ]
  },
  {
   "cell_type": "markdown",
   "id": "a61896ce",
   "metadata": {},
   "source": [
    "---\n",
    "\n",
    "##  Environment Setup Summary\n",
    "\n",
    "At this point, we have:\n",
    "- Created a secure **`.env`** file containing our API key and CRN.  \n",
    "- Configured the connection using **`QiskitRuntimeService`** without saving any credentials locally.  \n",
    "- Verified that the environment variables are correctly loaded.\n",
    "\n",
    "Now we are ready to start implementing the **Deutsch–Jozsa algorithm** using Qiskit.  \n",
    "In the following sections, we will:\n",
    "1. Review the theoretical foundations of the algorithm.  \n",
    "2. Build the corresponding quantum circuits step by step.  \n",
    "3. Test both **constant** and **balanced** functions on simulators and, optionally, on a real quantum backend.\n",
    "\n",
    "---\n"
   ]
  },
  {
   "cell_type": "markdown",
   "id": "12206718",
   "metadata": {},
   "source": [
    "# Deutsch-Jozsa-algorithm-implementation\n",
    "\n",
    "## Introduction\n",
    "The Deutsch–Jozsa algorithm distinguishes between constant and balanced functions exponentially faster than any classical deterministic algorithm. Even if it is not a usefull algorithm in a practical way, it is a simple example to show the quantum advantage.\n",
    "\n",
    "\n",
    "## Algorithm description\n",
    "Deutsch algorithm solves the parity problem for functions such as:\n",
    "\n",
    "$$\n",
    "\\sum \\;\\; \\longrightarrow \\sum\n",
    "$$\n",
    "<br>\n",
    "Deutsch-Jozsa algorithm is the extension of the Deustch algorithm for functions such as:\n",
    "\n",
    "$$\\sum^n \\;\\;\\longrightarrow\\;\\; \\sum \\; , \\quad n \\geq 1 $$\n",
    "\n",
    "To describe how this algorithm works , imagine this game: Alice, in LA sends a bit string to Bob, who is in NY. Bob calculates the image of some function $ f(x) $ that could work in two different ways. First  $f(x) = 0 \\ $  or  $ f(x) = 1 $ , but never both, constant. Otherwise $ f(x) = 0 $ half of the times , $ f(x) = 1 $ the other half, balanced. The goal of Alice is knowing how this $ f(x) $ work, constant or balanced. \n",
    "\n",
    "If Bob agrees to use an unitary operator $ U_f $ then, Alice only needs a single query to know how the function $ f(x) $ behaves. On the other hand, the best classical method would require $ 2^{n-1} +1 $  queries.\n",
    "\n",
    "We will follow the Qiskit workflow pattern: **Map → Optimize → Execute → Post-process**.  \n",
    "This is the standard workflow used for implementing all quantum algorithms.\n",
    "\n",
    "## Step 1: Map\n",
    "\n",
    "Firstly we will setup our qubits. This means $|0\\rangle^{\\otimes n}$ for Alice and $ |1\\rangle $ for Bob's qubit.\n",
    "\n"
   ]
  },
  {
   "cell_type": "code",
   "execution_count": 21,
   "id": "4db0152d",
   "metadata": {},
   "outputs": [
    {
     "data": {
      "image/png": "[encoded data removed]",
      "text/plain": [
       "<Figure size 372.024x535.111 with 1 Axes>"
      ]
     },
     "execution_count": 21,
     "metadata": {},
     "output_type": "execute_result"
    }
   ],
   "source": [
    "# Define the initial state |ψ0⟩ = |0...01⟩\n",
    "def psi_0(n:int):\n",
    "    alice_qr = QuantumRegister(n,name='Alice_q')\n",
    "    bob_qr = QuantumRegister(1,name= 'Bob_q')\n",
    "    alice_cr = ClassicalRegister(n,name='Alice_c')\n",
    "    qc = QuantumCircuit(alice_qr,bob_qr,alice_cr)\n",
    "    qc.x(n)\n",
    "    qc.barrier()\n",
    "    return qc,alice_qr,alice_cr,bob_qr\n",
    "# For example n = 4, 4 qubits for Alice and 1 for Bob\n",
    "n = 4\n",
    "qc,alice_qr,alice_cr,bob_qr = psi_0(n)\n",
    "qc.draw('mpl')"
   ]
  },
  {
   "cell_type": "markdown",
   "id": "7679a288",
   "metadata": {},
   "source": [
    "As you can see. We initialize the circuit in the state $$ |\\psi_0\\rangle = |0\\rangle^{\\otimes n} |1\\rangle $$ <br> \n",
    "To continue we need to create an entangled $|\\psi_1\\rangle =  H^{\\otimes n+1}|\\psi_0\\rangle $ \n",
    "which is $$  H^{\\otimes n}|0\\rangle  \\otimes H|1\\rangle$$"
   ]
  },
  {
   "cell_type": "code",
   "execution_count": 22,
   "id": "10882d8c",
   "metadata": {},
   "outputs": [
    {
     "data": {
      "image/png": "[encoded data removed]",
      "text/plain": [
       "<Figure size 539.247x535.111 with 1 Axes>"
      ]
     },
     "execution_count": 22,
     "metadata": {},
     "output_type": "execute_result"
    }
   ],
   "source": [
    "def psi_1(qc:QuantumCircuit,n:int,alice_qr:QuantumRegister,alice_cr:ClassicalRegister,bob_qr:QuantumRegister)->QuantumCircuit:\n",
    "    qc.h(alice_qr)\n",
    "    qc.h(bob_qr)\n",
    "    qc.barrier()\n",
    "    return qc\n",
    "qc= psi_1(qc,n,alice_qr,alice_cr,bob_qr)\n",
    "qc.draw('mpl')"
   ]
  },
  {
   "cell_type": "markdown",
   "id": "3a3df269",
   "metadata": {},
   "source": [
    "We obtain$$ |\\psi_1 \\rangle = \\displaystyle\\sum_{x \\in \\{0,1\\}^n}  \\frac{|x\\rangle}{\\sqrt{2^n}} \\otimes \\frac{|0\\rangle - |1\\rangle}{\\sqrt{2}} $$ <br>\n",
    "For example for $ n = 2 $ $$  |\\psi_1\\rangle = \\frac {|00\\rangle +|01\\rangle + |10\\rangle + |11\\rangle}{2} \\otimes \\frac{|0\\rangle - |1\\rangle}{\\sqrt{2}}  $$ <br>\n"
   ]
  },
  {
   "cell_type": "markdown",
   "id": "3b64dd75",
   "metadata": {},
   "source": [
    "Now the query register is a superposition of all values. Then it is Bob's turn to evaluate $$ U_f : |Alice,Bob\\rangle \\rightarrow |Alice,Bob \\oplus f(x)\\rangle$$ <br>\n",
    "\n",
    "It is important to understand how $ f(x) $ is chosen. Initially before we execute the quantum circuit an oracle chooses between balanced or constant function. For all shots of the execution this decision will be maintained. Now let's recap how $f(x) $ works:\n",
    "$$\n",
    "constant \\rightarrow f(x) = \n",
    "\\begin{cases}\n",
    "0 \\ \\forall x\n",
    "\\\\\n",
    "1 \\ \\forall x \n",
    "\n",
    "\\end{cases}\n",
    "\n",
    "$$\n",
    "\n",
    "$$\n",
    "balanced \\ \\longrightarrow\\\n",
    "|\\{x : f(x)=0\\}| = |\\{x : f(x)=1\\}| = 2^{n-1}\n",
    "$$"
   ]
  },
  {
   "cell_type": "code",
   "execution_count": 23,
   "id": "8c21a05f",
   "metadata": {},
   "outputs": [
    {
     "name": "stdout",
     "output_type": "stream",
     "text": [
      "0\n"
     ]
    }
   ],
   "source": [
    "# Define a seed for better reproduction\n",
    "seed = 23\n",
    "# Which function we will use for one execution\n",
    "def choose_const_bal(n=random.random(),n2=random.random())->int:\n",
    "    if n <= 0.5:\n",
    "        if n2 <= 0.5: \n",
    "            return 0 # if output 0 -> const0\n",
    "        else:\n",
    "            return 1 # if output 1 -> const1\n",
    "    else:\n",
    "        return 10 # if output 10 -> balanced\n",
    "        \n",
    "which_fun = choose_const_bal()\n",
    "print(which_fun)"
   ]
  },
  {
   "cell_type": "markdown",
   "id": "0178a336",
   "metadata": {},
   "source": [
    "As we have seen, $f(x)$ can output 2 values rather if it is balanced or constant. Let's check how $ U_f $ works:\n",
    "$$\n",
    "|\\psi_2\\rangle = \\frac{1}{\\sqrt{2^n}} \\big[ U_f|x,0\\rangle - U_f|x,1\\rangle] = \\frac{1}{\\sqrt{2^n}} \\big[ |x,0\\oplus f(x)\\rangle - |x,1\\oplus f(x)\\rangle] = \\frac{1}{\\sqrt{2^n}} \\big[ |x,f(x)\\rangle - |x,1\\oplus f(x)\\rangle]\n",
    "$$ \n",
    "<br>\n",
    "\n",
    "\n"
   ]
  },
  {
   "cell_type": "markdown",
   "id": "cba647d9",
   "metadata": {},
   "source": [
    "Now we will explain how $ U_f $ will change depending on the posible values of  $ f(x) $\n",
    "$$\n",
    "f(x) = 0 \\longrightarrow |\\psi_2\\rangle = \\frac {1}{\\sqrt{2^n}} |x,0\\rangle - |x,1\\rangle \\\\\n",
    "f(x) = 1 \\longrightarrow |\\psi_2\\rangle = \\frac {1}{\\sqrt{2^n}} |x,1\\rangle - |x,0\\rangle  =\\frac {1}{\\sqrt{2^n}} \\big[ -|x,0\\rangle-|x,1\\rangle\\big]\n",
    "\n",
    "$$\n",
    "$$ |\\psi_2\\rangle = \\sum_x \\frac{(-1)^{f(x)}|x\\rangle}{\\sqrt{2^n}} \\big[ \\frac {|0\\rangle-|1\\rangle }{\\sqrt{2}}\\big] $$\n",
    "\n",
    "This phenomena is called phase kickback. This quantum property is one of the most useful  within quantums algorithms. For more detail see: https://quantum.cloud.ibm.com/learning/en/courses/fundamentals-of-quantum-algorithms/phase-estimation-and-factoring/phase-estimation-procedure\n",
    "\n",
    "Let's express this phenomena in terms of quantum gates."
   ]
  },
  {
   "cell_type": "code",
   "execution_count": 24,
   "id": "21c2ac05",
   "metadata": {},
   "outputs": [],
   "source": [
    "#Let's define all the posible functions\n",
    "def constan0(qc:QuantumCircuit)->QuantumCircuit:\n",
    "    # We apply the identity\n",
    "    return qc\n",
    "\n",
    "def constant1(qc:QuantumCircuit,alice_qr:QuantumRegister)->QuantumCircuit:\n",
    "    qc.x(alice_qr)\n",
    "    return qc"
   ]
  },
  {
   "cell_type": "markdown",
   "id": "ef32e814",
   "metadata": {},
   "source": [
    "For the balanced function, we should be more cautious. As we can seen $ U_f $ is applied to each $ |x\\rangle $. So in the case\n",
    "$$ \n",
    "f(x) = x \\longrightarrow  |x\\rangle |y\\oplus x\\rangle \\longrightarrow CNOT\n",
    "$$ \n",
    "In the second case:\n",
    "$$\n",
    "f(x) =  \\neg x \\longrightarrow  |x\\rangle |y\\oplus  \\neg x\\rangle   ~=~ |x\\rangle |y\\oplus ( 1 \\oplus x\\rangle ) =  |x\\rangle |(y\\oplus  1 )\\oplus  x\\rangle  \\longrightarrow  X \\ CNOT\n",
    "$$"
   ]
  },
  {
   "cell_type": "code",
   "execution_count": 25,
   "id": "9aa12cc3",
   "metadata": {},
   "outputs": [
    {
     "data": {
      "image/png": "[encoded data removed]",
      "text/plain": [
       "<Figure size 622.858x535.111 with 1 Axes>"
      ]
     },
     "execution_count": 25,
     "metadata": {},
     "output_type": "execute_result"
    }
   ],
   "source": [
    "def balanced(qc:QuantumCircuit,n:int,alice_qr:QuantumRegister,bob_qr:QuantumRegister,balancer)->QuantumCircuit:\n",
    "    if balancer <=0:\n",
    "        balancer = random.random()\n",
    "        print('Balancer was less than 0, new value assigned:', balancer)\n",
    "    elif balancer >=1:\n",
    "        balancer = random.random()\n",
    "        print('Balancer was greater than 1, new value assigned:', balancer)\n",
    "    if balancer <= 0.5: \n",
    "        qc.cx(alice_qr,bob_qr) # N CNOT gates \n",
    "        return qc\n",
    "    else:\n",
    "        qc.x(bob_qr)\n",
    "        qc.cx(alice_qr,bob_qr) \n",
    "        return qc\n",
    "\n",
    "def uf(qc:QuantumCircuit,n:int,which_fun:int,alice_qr:QuantumRegister,balancer = random.random())->QuantumCircuit:\n",
    "    if which_fun == 0:\n",
    "        qc = constan0(qc)\n",
    "    elif which_fun == 1:\n",
    "        qc= constant1(qc,alice_qr)\n",
    "    else:\n",
    "        qc = balanced(qc,n,alice_qr,bob_qr,balancer)\n",
    "    qc.barrier()\n",
    "    return qc\n",
    "\n",
    "qc = uf(qc,n,which_fun,alice_qr)\n",
    "qc.draw('mpl')"
   ]
  },
  {
   "cell_type": "markdown",
   "id": "85cb9ae6",
   "metadata": {},
   "source": [
    "To conclude, we just have to apply a Hadamard gate to Alice's qubits, and measure them."
   ]
  },
  {
   "cell_type": "code",
   "execution_count": 26,
   "id": "6d0e482b",
   "metadata": {},
   "outputs": [
    {
     "data": {
      "image/png": "[encoded data removed]",
      "text/plain": [
       "<Figure size 1208.14x535.111 with 1 Axes>"
      ]
     },
     "execution_count": 26,
     "metadata": {},
     "output_type": "execute_result"
    }
   ],
   "source": [
    "def psi_3(qc:QuantumCircuit,n:int,alice_qr:QuantumRegister,alice_cr:ClassicalRegister,bob_qr:QuantumRegister)-> QuantumCircuit:\n",
    "    qc.h(alice_qr)\n",
    "    qc.barrier()\n",
    "    qc.measure(alice_qr,alice_cr)\n",
    "    qc.barrier()\n",
    "    return qc\n",
    "qc = psi_3(qc,n,alice_qr,alice_cr,bob_qr)\n",
    "qc.draw('mpl')"
   ]
  },
  {
   "cell_type": "markdown",
   "id": "09f9e1b1",
   "metadata": {},
   "source": [
    "Finally we obtein:\n",
    "$$\n",
    "|\\psi_3\\rangle = H ^{\\otimes n}|x\\rangle |y\\rangle \\longrightarrow\n",
    "|\\psi_3\\rangle = \\sum_z \\sum_x \\frac{(-1)^{xz+f(x)}|z\\rangle}{2^n} \\big[ \\frac{|0\\rangle-|1\\rangle}{\\sqrt{2}}\\big]\n",
    "$$\n",
    "Where $ zx $ is the bitwise inner produnct modulo 2. <br>\n",
    "At last, is Alice's turn to measure her query registers. The amplitudes should be\n",
    "$$\n",
    "f(x) = constant \\rightarrow \\pm1 \\\\\n",
    "f(x) = balanced \\rightarrow 0\n",
    "$$\n",
    "And we should measure\n",
    "$$\n",
    "f(x) = constant \\rightarrow 0  \\ \\forall qubits \\\\\n",
    "f(x) = balanced \\rightarrow \\ne 0 \\ for \\ at \\ least \\ 1 \\ qubit\n",
    "$$\n",
    "Now our Quantum Circuit is finally complete. Let's group all of our functions."
   ]
  },
  {
   "cell_type": "code",
   "execution_count": 27,
   "id": "7a2ac080",
   "metadata": {},
   "outputs": [],
   "source": [
    "def Deutsch_Jozsa_circuit(n:int,which_fun = choose_const_bal,balancer = random.random())-> QuantumCircuit:\n",
    "    qc,alice_qr,alice_cr,bob_qr = psi_0(n)\n",
    "    qc= psi_1(qc,n,alice_qr,alice_cr,bob_qr)\n",
    "    # It's important to clarify that if we do not give any value to 'which_fun' then it will be random\n",
    "    if which_fun not in [0,1,10]:\n",
    "        print('Incorrect value for which_fun, a random function will be chosen')\n",
    "        which_fun = choose_const_bal()\n",
    "    qc = uf(qc,n,which_fun,alice_qr,balancer)\n",
    "    qc = psi_3(qc,n,alice_qr,alice_cr,bob_qr)\n",
    "    return qc\n"
   ]
  },
  {
   "cell_type": "code",
   "execution_count": 28,
   "id": "a44eaac5",
   "metadata": {},
   "outputs": [],
   "source": [
    "qc1 = Deutsch_Jozsa_circuit(n = 6, which_fun=10,balancer=0.7)\n",
    "draw1 = qc1.draw('mpl')\n",
    "qc2 = Deutsch_Jozsa_circuit(n = 6, which_fun=10,balancer=0.3)\n",
    "draw2 = qc2.draw('mpl')\n",
    "# To visualize the circuits eliminate the # before the coments below\n",
    "#draw1\n",
    "#draw2"
   ]
  },
  {
   "cell_type": "markdown",
   "id": "16f605f9",
   "metadata": {},
   "source": [
    "## Step 2: Optimize \n",
    "Following the qiskit workflow. It is turn to optimize our circuit, for decreasing the different types of errors such as: two qubit gates error, really important in the case of $ f(x) = \\neg x$, the T2 error or Desphasing error, or the readout error because we apply n measurements.\n"
   ]
  },
  {
   "cell_type": "code",
   "execution_count": 29,
   "id": "add76a19",
   "metadata": {},
   "outputs": [],
   "source": [
    "# Transpile the circuit for the selected backend\n",
    "# We will chose the least busy available backend\n",
    "backend_real = service.least_busy(operational=True, simulator=False)\n",
    "pm = generate_preset_pass_manager(backend=backend_real, optimization_level=1,layout_method='sabre')\n",
    "isa_qc = transpile(qc,backend=backend_real)\n",
    "# isa_qc.draw('mpl')"
   ]
  },
  {
   "cell_type": "markdown",
   "id": "ec25e66d",
   "metadata": {},
   "source": [
    "As our circuit does not have much size we will use optimeze level = 1. If you are tranpiling a quantum circuit with $ n \\geq 100 $ qubits consider using level 2. \n",
    "\n",
    "## Step 3: Execute\n",
    "Now that we have our qc optimized for the selected backend, we can execute it. It is important to understand that unless our quantum circuit has at least 100 qubits, classical computer be better than any quantum hardware. \n",
    "<br>\n",
    "To start, we will run our quantum circuit with the Qiskit primitives on the Aer simulator before moving to real hardware. "
   ]
  },
  {
   "cell_type": "code",
   "execution_count": 34,
   "id": "deff270c",
   "metadata": {},
   "outputs": [
    {
     "name": "stdout",
     "output_type": "stream",
     "text": [
      "Counts: {'0000': 1000}\n"
     ]
    }
   ],
   "source": [
    "shots = 1000\n",
    "\n",
    "backend_aer = AerSimulator()\n",
    "sampler = Sampler()\n",
    "aer_qc = transpile(qc, backend=backend_aer)\n",
    "\n",
    "# Ejecutar circuito\n",
    "result_aer = sampler.run([aer_qc], shots=shots).result()\n",
    "\n",
    "# Acceder a los counts del registro clásico (por defecto “meas” o el nombre de tu registro)\n",
    "counts_aer = result_aer[0].data.Alice_c.get_counts()\n",
    "print(\"Counts:\", counts_aer)"
   ]
  },
  {
   "cell_type": "markdown",
   "id": "2fb59544",
   "metadata": {},
   "source": []
  },
  {
   "cell_type": "markdown",
   "id": "37060478",
   "metadata": {},
   "source": [
    "## Referances \n",
    "Nielsen & Chuang, sections 1.4.2–1.4.4.\n",
    "ttps://quantum.cloud.ibm.com/learning/en/modules/computer-science/deutsch-jozsa\n",
    "\n",
    "\n",
    "## To-do\n",
    "\n",
    "Poner q se pueda tanto ejecutar en sampler como en un quantum hardware real \n",
    "\n",
    "Revisar un poco al documentacion, la n, dejar claro q n es el numero de qubits de Alice \n",
    "\n",
    "Que la funcion final devuelva tambien si es const o bal para cambiar el modo del transpiler, si es 10 entonces mejor sabre para reducir el error de las cnot .\n",
    "\n",
    "Configuro el aersim con ruido??\n",
    "\n"
   ]
  }
 ],
 "metadata": {
  "kernelspec": {
   "display_name": "qgss_env",
   "language": "python",
   "name": "python3"
  },
  "language_info": {
   "codemirror_mode": {
    "name": "ipython",
    "version": 3
   },
   "file_extension": ".py",
   "mimetype": "text/x-python",
   "name": "python",
   "nbconvert_exporter": "python",
   "pygments_lexer": "ipython3",
   "version": "3.11.13"
  }
 },
 "nbformat": 4,
 "nbformat_minor": 5
}

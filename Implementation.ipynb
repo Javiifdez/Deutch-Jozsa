{
 "cells": [
  {
   "cell_type": "markdown",
   "id": "68ad5521",
   "metadata": {},
   "source": [
    "# Deutsch-Jozsa Algorithm\n",
    "\n",
    "## Imports and requirements\n"
   ]
  },
  {
   "cell_type": "markdown",
   "id": "6ac05f8c",
   "metadata": {},
   "source": [
    "To run this notebook it is requiered a python versin >= 3.10, personally, I am using python 3.11"
   ]
  },
  {
   "cell_type": "code",
   "execution_count": null,
   "id": "d413f8b8",
   "metadata": {},
   "outputs": [],
   "source": [
    "from platform import python_version\n",
    "print(python_version())"
   ]
  },
  {
   "cell_type": "code",
   "execution_count": null,
   "id": "b013b015",
   "metadata": {},
   "outputs": [],
   "source": [
    "# Requieremts\n",
    "%pip install os\n",
    "%pip install qiskit\n",
    "%pip install qiskit_ibm_runtime\n",
    "%pip install numpy\n",
    "%pip install matplot\n",
    "%pip ipywidgets\n",
    "%pip install python-dotenv\n"
   ]
  },
  {
   "cell_type": "code",
   "execution_count": 13,
   "id": "58d70ba0",
   "metadata": {},
   "outputs": [],
   "source": [
    "# Imports\n",
    "from dotenv import load_dotenv\n",
    "import os\n",
    "from qiskit import QuantumCircuit, generate_preset_pass_manager\n",
    "from qiskit.visualization import plot_histogram\n",
    "from qiskit.quantum_info import SparsePauliOp\n",
    "\n",
    "from qiskit_ibm_runtime import QiskitRuntimeService, SamplerV2 as Sampler, EstimatorV2 as Estimator\n",
    "\n",
    "from qiskit_aer import AerSimulator"
   ]
  },
  {
   "cell_type": "code",
   "execution_count": 13,
   "id": "31ee24e8",
   "metadata": {},
   "outputs": [
    {
     "name": "stdout",
     "output_type": "stream",
     "text": [
      "Qiskit version: 2.1.1\n"
     ]
    }
   ],
   "source": [
    "print(f\"Qiskit version: {qiskit.__version__}\")"
   ]
  },
  {
   "cell_type": "markdown",
   "id": "1640d013",
   "metadata": {},
   "source": [
    "You should have Qiskit version `>=2.0.0`. If you see a lower version, you need to restart your kernel and reinstall the library."
   ]
  },
  {
   "cell_type": "markdown",
   "id": "78fabc3b",
   "metadata": {},
   "source": [
    "## IBM Quantum Runtime setup\n",
    "Firstly we will setup the qiskit_ibm_runtime service so we can execute our circuit on a real hardware.\n",
    "> ⚠️ **Note:**  \n",
    "> It is highly recommended to check the [official IBM Quantum documentation](https://quantum.ibm.com/docs/).  \n",
    ">\n",
    "> In this notebook, we will use the **`.env` method**.  \n",
    "> Create a `.env` file in the same folder as this notebook and write your **API key** and **CRN** there.  \n",
    ">\n",
    "> This approach keeps your credentials secure and out of the public repository.\n"
   ]
  },
  {
   "cell_type": "code",
   "execution_count": 3,
   "id": "7aacb789",
   "metadata": {},
   "outputs": [
    {
     "name": "stdout",
     "output_type": "stream",
     "text": [
      "🔑 Token (first 6 chars): b3fr8e ...\n",
      "Available backends:\n",
      " - ibm_brisbane\n",
      " - ibm_torino\n"
     ]
    }
   ],
   "source": [
    "# Load automatically the .env file from the root of the project \n",
    "load_dotenv(override=True)\n",
    "\n",
    "# Check if the environment variables are set\n",
    "print(\"🔑 Token (first 6 chars):\", os.environ[\"IBM_QUANTUM_TOKEN\"][:6], \"...\")\n",
    "\n",
    "# Setup the IBM Quantum Runtime service\n",
    "service = QiskitRuntimeService(\n",
    "    channel=os.environ[\"IBM_QUANTUM_CHANNEL\"],\n",
    "    token=os.environ[\"IBM_QUANTUM_TOKEN\"],\n",
    "    instance=os.environ[\"IBM_QUANTUM_INSTANCE\"]\n",
    ")\n",
    "# Check the available backends, if error then your .env is not correctly set\n",
    "print(\"Available backends:\")\n",
    "for backend in service.backends():\n",
    "    print(\" -\", backend.name)"
   ]
  },
  {
   "cell_type": "markdown",
   "id": "a61896ce",
   "metadata": {},
   "source": [
    "---\n",
    "\n",
    "##  Environment Setup Summary\n",
    "\n",
    "At this point, we have:\n",
    "- Created a secure **`.env`** file containing our API key and CRN.  \n",
    "- Configured the connection using **`QiskitRuntimeService`** without saving any credentials locally.  \n",
    "- Verified that the environment variables are correctly loaded.\n",
    "\n",
    "Now we are ready to start implementing the **Deutsch–Jozsa algorithm** using Qiskit.  \n",
    "In the following sections, we will:\n",
    "1. Review the theoretical foundations of the algorithm.  \n",
    "2. Build the corresponding quantum circuits step by step.  \n",
    "3. Test both **constant** and **balanced** functions on simulators and, optionally, on a real quantum backend.\n",
    "\n",
    "---\n"
   ]
  },
  {
   "cell_type": "markdown",
   "id": "12206718",
   "metadata": {},
   "source": [
    "# Deutsch-Jozsa-algorithm-implementation\n",
    "\n",
    "## Introduction\n",
    "The Deutsch–Jozsa algorithm distinguishes between constant and balanced functions exponentially faster than any classical deterministic algorithm. Even if it is not a usefull algorithm in a practical way, it is a simple example to show the quantum advantage.\n",
    "\n",
    "\n",
    "## Algorithm description\n",
    "Deutsch algorithm solves the parity problem for functions such us:\n",
    "\n",
    "$$\n",
    "\\sum \\;\\; \\longrightarrow \\sum\n",
    "$$\n",
    "The outputs will be:\n",
    "\n",
    "$$  0 \\Leftrightarrow \\; constant $$\n",
    "$$ 1 \\Leftrightarrow \\; balanced$$\n",
    "\n",
    "<br>\n",
    "Deutsch-Jozsa algorithm is the extension of the Deustch algorithm for functions such us:\n",
    "\n",
    "$$\\sum^n \\;\\;\\longrightarrow\\;\\; \\sum \\; , \\quad n \\geq 1 $$\n",
    "\n",
    "To describe how this algorithm works , imagine this game: Alice, in LA sends a bit string to Bob, who is in NY. Bob calculates the image of some function $ f(x) $ that could work in two different ways. First  $f(x) = 0 \\ $  or  $ f(x) = 1 $ , but never both, constant. Otherwise $ f(x) = 0 $ half of the times , $ f(x) = 1 $ the other half, balanced. The goal of Alice is knowing how this $ f(x) $ work, constant or balanced. \n",
    "\n",
    "If Bob agrees to use an unitary operator $ U_f $ then, Alice only needs a single query to know how the function $ f(x) $ behaves. On the other hand, the best classical method would require $ 2^{n-1} +1 $  queries.\n",
    "\n",
    "## Implementation\n",
    "\n",
    "We will follow the Qiskit workflow pattern: **Map → Optimize → Execute → Post-process**.  \n",
    "This is the standard workflow used for implementing all quantum algorithms.\n",
    "\n",
    "### Step 1: Map\n",
    "\n",
    "Firstly we will setup our qubits. This means $|0\\rangle^{\\otimes n}$ for Alice and $ |1\\rangle $ for Bob's qubit.\n",
    "\n"
   ]
  },
  {
   "cell_type": "code",
   "execution_count": 29,
   "id": "4db0152d",
   "metadata": {},
   "outputs": [
    {
     "data": {
      "image/png": "[encoded data removed]",
      "text/plain": [
       "<Figure size 203.885x451.5 with 1 Axes>"
      ]
     },
     "execution_count": 29,
     "metadata": {},
     "output_type": "execute_result"
    }
   ],
   "source": [
    "# Define the initial state |ψ0⟩ = |0...01⟩\n",
    "def psi_0(n:int) -> QuantumCircuit:\n",
    "    qc = QuantumCircuit(n+1)\n",
    "    qc.x(n)\n",
    "    return qc\n",
    "n = 4\n",
    "qc = psi_0(n)\n",
    "qc.draw('mpl')"
   ]
  },
  {
   "cell_type": "markdown",
   "id": "7679a288",
   "metadata": {},
   "source": [
    "As you can see, now we have $$ |\\psi_0\\rangle = |0\\rangle^{\\otimes (n-1)} |1\\rangle $$ <br> \n",
    "To continue we need to create an entangled $|\\psi_1\\rangle =  H^{\\otimes n}|\\psi_0\\rangle $ \n",
    "which is $$  H^{\\otimes (n-1)}|0\\rangle  \\otimes H|1\\rangle$$"
   ]
  },
  {
   "cell_type": "code",
   "execution_count": null,
   "id": "10882d8c",
   "metadata": {},
   "outputs": [
    {
     "data": {
      "image/png": "[encoded data removed]",
      "text/plain": [
       "<Figure size 371.107x451.5 with 1 Axes>"
      ]
     },
     "execution_count": 30,
     "metadata": {},
     "output_type": "execute_result"
    }
   ],
   "source": [
    "def psi_1(qc:QuantumCircuit,n:int):\n",
    "    qc.barrier()\n",
    "    qc.h(range(n+1))\n",
    "    return qc\n",
    "qc = psi_1(qc,n)\n",
    "qc.draw('mpl')"
   ]
  },
  {
   "cell_type": "markdown",
   "id": "3a3df269",
   "metadata": {},
   "source": [
    "Our quantum state $$ |\\psi_1 \\rangle = \\sum_{x \\in \\{0,1\\}^n}  \\frac{|x\\rangle}{\\sqrt{2^n}} \\otimes \\frac{|0\\rangle - |1\\rangle}{\\sqrt{2}} $$ <br>\n",
    "For example for $ n = 2 $ $$  |\\psi_1\\rangle = \\frac {|00\\rangle +|01\\rangle + |10\\rangle + |11\\rangle}{2} \\otimes \\frac{|0\\rangle - |1\\rangle}{\\sqrt{2}}  $$"
   ]
  },
  {
   "cell_type": "markdown",
   "id": "37060478",
   "metadata": {},
   "source": [
    "\n",
    "## Referances \n",
    "Nielsen & Chuang, secciones 1.4.2–1.4.4.\n",
    "ttps://quantum.cloud.ibm.com/learning/en/modules/computer-science/deutsch-jozsa\n",
    "\n",
    "\n",
    "## To-do\n",
    "\n",
    "AÑADIR REFERENCIA A PRIMERA PARTE \"ALGORITHM DESCRIPTION\" ALGO COMO  SEE ..."
   ]
  }
 ],
 "metadata": {
  "kernelspec": {
   "display_name": "qgss_env",
   "language": "python",
   "name": "python3"
  },
  "language_info": {
   "codemirror_mode": {
    "name": "ipython",
    "version": 3
   },
   "file_extension": ".py",
   "mimetype": "text/x-python",
   "name": "python",
   "nbconvert_exporter": "python",
   "pygments_lexer": "ipython3",
   "version": "3.11.13"
  }
 },
 "nbformat": 4,
 "nbformat_minor": 5
}

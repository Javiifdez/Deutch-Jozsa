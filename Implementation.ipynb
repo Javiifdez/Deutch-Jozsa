{
 "cells": [
  {
   "cell_type": "markdown",
   "id": "68ad5521",
   "metadata": {},
   "source": [
    "# Deutsch-Jozsa Algorithm\n",
    "## Imports and requirements\n"
   ]
  },
  {
   "cell_type": "markdown",
   "id": "6ac05f8c",
   "metadata": {},
   "source": [
    "To run this notebook it is requiered a python versin >= 3.10, personally, i am using python 3-1"
   ]
  },
  {
   "cell_type": "code",
   "execution_count": null,
   "id": "d413f8b8",
   "metadata": {},
   "outputs": [],
   "source": [
    "from platform import python_version\n",
    "print(python_version())"
   ]
  },
  {
   "cell_type": "code",
   "execution_count": null,
   "id": "b013b015",
   "metadata": {},
   "outputs": [],
   "source": [
    "# Requieremts\n",
    "%pip install qiskit\n",
    "%pip install qiskit_ibm_runtime\n",
    "%pip install numpy\n",
    "%pip install matplot\n",
    "%pip ipywidgets"
   ]
  },
  {
   "cell_type": "code",
   "execution_count": null,
   "id": "58d70ba0",
   "metadata": {},
   "outputs": [],
   "source": [
    "# Imports\n"
   ]
  },
  {
   "cell_type": "markdown",
   "id": "f7c58297",
   "metadata": {},
   "source": [
    "We will follow the qiskit patern"
   ]
  }
 ],
 "metadata": {
  "kernelspec": {
   "display_name": "qgss_env",
   "language": "python",
   "name": "python3"
  },
  "language_info": {
   "name": "python",
   "version": "3.11.13"
  }
 },
 "nbformat": 4,
 "nbformat_minor": 5
}
